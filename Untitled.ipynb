{
 "cells": [
  {
   "cell_type": "code",
   "execution_count": 19,
   "id": "798f4f17",
   "metadata": {},
   "outputs": [],
   "source": [
    "import json\n",
    "import pandas as pd"
   ]
  },
  {
   "cell_type": "code",
   "execution_count": 21,
   "id": "5477c17a",
   "metadata": {},
   "outputs": [],
   "source": [
    "data = json.load(open(\"src/NHL.json\"))\n",
    "df = pd.DataFrame(data)"
   ]
  },
  {
   "cell_type": "code",
   "execution_count": 22,
   "id": "8224124a",
   "metadata": {},
   "outputs": [
    {
     "data": {
      "text/html": [
       "<div>\n",
       "<style scoped>\n",
       "    .dataframe tbody tr th:only-of-type {\n",
       "        vertical-align: middle;\n",
       "    }\n",
       "\n",
       "    .dataframe tbody tr th {\n",
       "        vertical-align: top;\n",
       "    }\n",
       "\n",
       "    .dataframe thead th {\n",
       "        text-align: right;\n",
       "    }\n",
       "</style>\n",
       "<table border=\"1\" class=\"dataframe\">\n",
       "  <thead>\n",
       "    <tr style=\"text-align: right;\">\n",
       "      <th></th>\n",
       "      <th>2016_REG</th>\n",
       "      <th>2016_PST</th>\n",
       "      <th>2017_REG</th>\n",
       "      <th>2017_PST</th>\n",
       "      <th>2018_REG</th>\n",
       "      <th>2018_PST</th>\n",
       "      <th>2019_REG</th>\n",
       "      <th>2019_PST</th>\n",
       "      <th>2020_REG</th>\n",
       "      <th>2020_PST</th>\n",
       "      <th>2021_REG</th>\n",
       "      <th>2021_PST</th>\n",
       "      <th>2022_REG</th>\n",
       "      <th>2022_PST</th>\n",
       "      <th>2023_REG</th>\n",
       "      <th>2023_PST</th>\n",
       "    </tr>\n",
       "  </thead>\n",
       "  <tbody>\n",
       "    <tr>\n",
       "      <th>league</th>\n",
       "      <td>{'id': 'fd560107-a85b-4388-ab0d-655ad022aff7',...</td>\n",
       "      <td>{'id': 'fd560107-a85b-4388-ab0d-655ad022aff7',...</td>\n",
       "      <td>{'id': 'fd560107-a85b-4388-ab0d-655ad022aff7',...</td>\n",
       "      <td>{'id': 'fd560107-a85b-4388-ab0d-655ad022aff7',...</td>\n",
       "      <td>{'id': 'fd560107-a85b-4388-ab0d-655ad022aff7',...</td>\n",
       "      <td>{'id': 'fd560107-a85b-4388-ab0d-655ad022aff7',...</td>\n",
       "      <td>{'id': 'fd560107-a85b-4388-ab0d-655ad022aff7',...</td>\n",
       "      <td>{'id': 'fd560107-a85b-4388-ab0d-655ad022aff7',...</td>\n",
       "      <td>{'id': 'fd560107-a85b-4388-ab0d-655ad022aff7',...</td>\n",
       "      <td>{'id': 'fd560107-a85b-4388-ab0d-655ad022aff7',...</td>\n",
       "      <td>{'id': 'fd560107-a85b-4388-ab0d-655ad022aff7',...</td>\n",
       "      <td>{'id': 'fd560107-a85b-4388-ab0d-655ad022aff7',...</td>\n",
       "      <td>{'id': 'fd560107-a85b-4388-ab0d-655ad022aff7',...</td>\n",
       "      <td>{'id': 'fd560107-a85b-4388-ab0d-655ad022aff7',...</td>\n",
       "      <td>NaN</td>\n",
       "      <td>NaN</td>\n",
       "    </tr>\n",
       "    <tr>\n",
       "      <th>season</th>\n",
       "      <td>{'id': '2088d463-6504-4979-a216-8553952091be',...</td>\n",
       "      <td>{'id': 'e51cbc10-3259-4fe9-b741-b655f3a7538c',...</td>\n",
       "      <td>{'id': '1ddb5f48-b45c-4ebf-8db9-04c8c2e2f9c3',...</td>\n",
       "      <td>{'id': '758579b1-6e4f-4bd7-a546-1591f39c461c',...</td>\n",
       "      <td>{'id': '3ddb33ba-4648-480b-a2c5-289a6bb5ddbd',...</td>\n",
       "      <td>{'id': '4552c49e-30e6-4bcb-8a3c-a9e3b79509d2',...</td>\n",
       "      <td>{'id': '0f4f1e3e-341b-4471-9ac5-84ade7151ee0',...</td>\n",
       "      <td>{'id': 'ba6c49ed-532e-4059-8334-e19de99b60e0',...</td>\n",
       "      <td>{'id': 'd8f9b71d-eb0e-42a0-8373-748aeace6d27',...</td>\n",
       "      <td>{'id': '906a801f-c326-4232-b687-08304f752e64',...</td>\n",
       "      <td>{'id': '6108b2da-8b91-4dc2-b121-fe29616097e5',...</td>\n",
       "      <td>{'id': '89c91c8b-fb19-49b0-a4a1-80d0ec2ac9ca',...</td>\n",
       "      <td>{'id': '5d08ca09-ec49-4559-9c0f-257c0158e57f',...</td>\n",
       "      <td>{'id': '4b9b99bb-4b53-4b0e-8be5-1dfa92f68944',...</td>\n",
       "      <td>NaN</td>\n",
       "      <td>NaN</td>\n",
       "    </tr>\n",
       "    <tr>\n",
       "      <th>games</th>\n",
       "      <td>[{'id': '4a130cc4-3bd4-42ad-ac93-484043a2d5bc'...</td>\n",
       "      <td>[{'id': '913b2766-9cf5-49b4-9f81-5a4c30b5ecd1'...</td>\n",
       "      <td>[{'id': '6cbe1593-9d60-4a4f-89d7-8b5d88263dc3'...</td>\n",
       "      <td>[{'id': '0322f108-3af5-4e07-a7a9-e3f826df0772'...</td>\n",
       "      <td>[{'id': '1657bfb0-337f-4aea-a4be-bde4cce131e6'...</td>\n",
       "      <td>[{'id': 'f0febc5e-d667-4bdf-aebe-285a46584c05'...</td>\n",
       "      <td>[{'id': '39ee2081-9e20-4fb5-89ba-d57cef408d2c'...</td>\n",
       "      <td>[{'id': '511fc3be-4171-4b36-90c0-304a46c1bddc'...</td>\n",
       "      <td>[{'id': 'e0d11a1a-3c20-44ad-9301-f9e2aff53926'...</td>\n",
       "      <td>[{'id': 'ca527f11-b1a0-47f6-aaa3-ecb213ccbde2'...</td>\n",
       "      <td>[{'id': '7bdee3df-aec6-4082-9a72-6048abce4845'...</td>\n",
       "      <td>[{'id': '9dfc3b58-2dd8-4b66-97f4-08a1afc1e268'...</td>\n",
       "      <td>[{'id': '7a3ddea5-6cb4-43ee-bd78-a3e5799d2021'...</td>\n",
       "      <td>[{'id': '7079e7e7-0a30-4039-97af-efcd9705830e'...</td>\n",
       "      <td>[]</td>\n",
       "      <td>[]</td>\n",
       "    </tr>\n",
       "  </tbody>\n",
       "</table>\n",
       "</div>"
      ],
      "text/plain": [
       "                                                 2016_REG  \\\n",
       "league  {'id': 'fd560107-a85b-4388-ab0d-655ad022aff7',...   \n",
       "season  {'id': '2088d463-6504-4979-a216-8553952091be',...   \n",
       "games   [{'id': '4a130cc4-3bd4-42ad-ac93-484043a2d5bc'...   \n",
       "\n",
       "                                                 2016_PST  \\\n",
       "league  {'id': 'fd560107-a85b-4388-ab0d-655ad022aff7',...   \n",
       "season  {'id': 'e51cbc10-3259-4fe9-b741-b655f3a7538c',...   \n",
       "games   [{'id': '913b2766-9cf5-49b4-9f81-5a4c30b5ecd1'...   \n",
       "\n",
       "                                                 2017_REG  \\\n",
       "league  {'id': 'fd560107-a85b-4388-ab0d-655ad022aff7',...   \n",
       "season  {'id': '1ddb5f48-b45c-4ebf-8db9-04c8c2e2f9c3',...   \n",
       "games   [{'id': '6cbe1593-9d60-4a4f-89d7-8b5d88263dc3'...   \n",
       "\n",
       "                                                 2017_PST  \\\n",
       "league  {'id': 'fd560107-a85b-4388-ab0d-655ad022aff7',...   \n",
       "season  {'id': '758579b1-6e4f-4bd7-a546-1591f39c461c',...   \n",
       "games   [{'id': '0322f108-3af5-4e07-a7a9-e3f826df0772'...   \n",
       "\n",
       "                                                 2018_REG  \\\n",
       "league  {'id': 'fd560107-a85b-4388-ab0d-655ad022aff7',...   \n",
       "season  {'id': '3ddb33ba-4648-480b-a2c5-289a6bb5ddbd',...   \n",
       "games   [{'id': '1657bfb0-337f-4aea-a4be-bde4cce131e6'...   \n",
       "\n",
       "                                                 2018_PST  \\\n",
       "league  {'id': 'fd560107-a85b-4388-ab0d-655ad022aff7',...   \n",
       "season  {'id': '4552c49e-30e6-4bcb-8a3c-a9e3b79509d2',...   \n",
       "games   [{'id': 'f0febc5e-d667-4bdf-aebe-285a46584c05'...   \n",
       "\n",
       "                                                 2019_REG  \\\n",
       "league  {'id': 'fd560107-a85b-4388-ab0d-655ad022aff7',...   \n",
       "season  {'id': '0f4f1e3e-341b-4471-9ac5-84ade7151ee0',...   \n",
       "games   [{'id': '39ee2081-9e20-4fb5-89ba-d57cef408d2c'...   \n",
       "\n",
       "                                                 2019_PST  \\\n",
       "league  {'id': 'fd560107-a85b-4388-ab0d-655ad022aff7',...   \n",
       "season  {'id': 'ba6c49ed-532e-4059-8334-e19de99b60e0',...   \n",
       "games   [{'id': '511fc3be-4171-4b36-90c0-304a46c1bddc'...   \n",
       "\n",
       "                                                 2020_REG  \\\n",
       "league  {'id': 'fd560107-a85b-4388-ab0d-655ad022aff7',...   \n",
       "season  {'id': 'd8f9b71d-eb0e-42a0-8373-748aeace6d27',...   \n",
       "games   [{'id': 'e0d11a1a-3c20-44ad-9301-f9e2aff53926'...   \n",
       "\n",
       "                                                 2020_PST  \\\n",
       "league  {'id': 'fd560107-a85b-4388-ab0d-655ad022aff7',...   \n",
       "season  {'id': '906a801f-c326-4232-b687-08304f752e64',...   \n",
       "games   [{'id': 'ca527f11-b1a0-47f6-aaa3-ecb213ccbde2'...   \n",
       "\n",
       "                                                 2021_REG  \\\n",
       "league  {'id': 'fd560107-a85b-4388-ab0d-655ad022aff7',...   \n",
       "season  {'id': '6108b2da-8b91-4dc2-b121-fe29616097e5',...   \n",
       "games   [{'id': '7bdee3df-aec6-4082-9a72-6048abce4845'...   \n",
       "\n",
       "                                                 2021_PST  \\\n",
       "league  {'id': 'fd560107-a85b-4388-ab0d-655ad022aff7',...   \n",
       "season  {'id': '89c91c8b-fb19-49b0-a4a1-80d0ec2ac9ca',...   \n",
       "games   [{'id': '9dfc3b58-2dd8-4b66-97f4-08a1afc1e268'...   \n",
       "\n",
       "                                                 2022_REG  \\\n",
       "league  {'id': 'fd560107-a85b-4388-ab0d-655ad022aff7',...   \n",
       "season  {'id': '5d08ca09-ec49-4559-9c0f-257c0158e57f',...   \n",
       "games   [{'id': '7a3ddea5-6cb4-43ee-bd78-a3e5799d2021'...   \n",
       "\n",
       "                                                 2022_PST 2023_REG 2023_PST  \n",
       "league  {'id': 'fd560107-a85b-4388-ab0d-655ad022aff7',...      NaN      NaN  \n",
       "season  {'id': '4b9b99bb-4b53-4b0e-8be5-1dfa92f68944',...      NaN      NaN  \n",
       "games   [{'id': '7079e7e7-0a30-4039-97af-efcd9705830e'...       []       []  "
      ]
     },
     "execution_count": 22,
     "metadata": {},
     "output_type": "execute_result"
    }
   ],
   "source": [
    "df"
   ]
  },
  {
   "cell_type": "code",
   "execution_count": 12,
   "id": "f2df6ab7",
   "metadata": {},
   "outputs": [
    {
     "data": {
      "text/plain": [
       "'T18:00:00Z'"
      ]
     },
     "execution_count": 12,
     "metadata": {},
     "output_type": "execute_result"
    }
   ],
   "source": [
    "df[\"scheduled\"][0][10:]"
   ]
  },
  {
   "cell_type": "code",
   "execution_count": 17,
   "id": "74b5793c",
   "metadata": {},
   "outputs": [],
   "source": [
    "df[\"scheduled_tod\"] = df.scheduled.str[10:]"
   ]
  },
  {
   "cell_type": "code",
   "execution_count": 18,
   "id": "a21af875",
   "metadata": {},
   "outputs": [
    {
     "data": {
      "text/plain": [
       "array(['T18:00:00Z', 'T23:30:00Z', 'T02:00:00Z', 'T23:00:00Z',\n",
       "       'T01:30:00Z', 'T00:00:00Z', 'T00:30:00Z', 'T02:30:00Z',\n",
       "       'T17:00:00Z', 'T20:00:00Z', 'T01:00:00Z', 'T21:00:00Z',\n",
       "       'T22:00:00Z', 'T20:30:00Z', 'T19:00:00Z', 'T03:00:00Z',\n",
       "       'T03:30:00Z', 'T22:30:00Z', 'T18:30:00Z', 'T21:30:00Z',\n",
       "       'T17:30:00Z', 'T19:30:00Z', 'T16:30:00Z'], dtype=object)"
      ]
     },
     "execution_count": 18,
     "metadata": {},
     "output_type": "execute_result"
    }
   ],
   "source": [
    "df[\"scheduled_tod\"].unique()"
   ]
  },
  {
   "cell_type": "code",
   "execution_count": null,
   "id": "1354c219",
   "metadata": {},
   "outputs": [],
   "source": []
  }
 ],
 "metadata": {
  "kernelspec": {
   "display_name": "Python 3 (ipykernel)",
   "language": "python",
   "name": "python3"
  },
  "language_info": {
   "codemirror_mode": {
    "name": "ipython",
    "version": 3
   },
   "file_extension": ".py",
   "mimetype": "text/x-python",
   "name": "python",
   "nbconvert_exporter": "python",
   "pygments_lexer": "ipython3",
   "version": "3.10.11"
  }
 },
 "nbformat": 4,
 "nbformat_minor": 5
}
